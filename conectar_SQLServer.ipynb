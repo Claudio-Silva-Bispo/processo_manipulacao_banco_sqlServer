{
 "cells": [
  {
   "cell_type": "code",
   "execution_count": 1,
   "metadata": {},
   "outputs": [],
   "source": [
    "#--------------------( Instalar as bibliotecas )--------------------#\n",
    "\n",
    "# !pip install pymssql\n",
    "# !pip install pyodbc\n",
    "\n"
   ]
  },
  {
   "cell_type": "code",
   "execution_count": 2,
   "metadata": {},
   "outputs": [],
   "source": [
    "#--------------------( Importar as bibliotecas )--------------------#\n",
    "\n",
    "from datetime import date\n",
    "import time\n",
    "import socket\n",
    "import pandas as pd\n",
    "import pymssql\n"
   ]
  },
  {
   "cell_type": "code",
   "execution_count": 3,
   "metadata": {},
   "outputs": [],
   "source": [
    "#--------------------( Fazer o acesso no SQL )--------------------#\n",
    "\n",
    "conn = pymssql.connect(server='', \n",
    "                       database='', \n",
    "                       user='', \n",
    "                       password='')\n",
    "\n",
    "sql_query = \"\"\"SELECT * FROM ACAO\"\"\"\n",
    "\n"
   ]
  },
  {
   "cell_type": "code",
   "execution_count": 4,
   "metadata": {},
   "outputs": [
    {
     "name": "stderr",
     "output_type": "stream",
     "text": [
      "C:\\Users\\E109627\\AppData\\Local\\Temp\\ipykernel_20884\\4008771235.py:3: UserWarning: pandas only supports SQLAlchemy connectable (engine/connection) or database string URI or sqlite3 DBAPI2 connection. Other DBAPI2 objects are not tested. Please consider using SQLAlchemy.\n",
      "  df = pd.read_sql(sql_query, conn)\n"
     ]
    }
   ],
   "source": [
    "#--------------------( Colocar os dados em uma variavel e usar as informações )--------------------#\n",
    "\n",
    "df = pd.read_sql(sql_query, conn)"
   ]
  }
 ],
 "metadata": {
  "kernelspec": {
   "display_name": "Python 3",
   "language": "python",
   "name": "python3"
  },
  "language_info": {
   "codemirror_mode": {
    "name": "ipython",
    "version": 3
   },
   "file_extension": ".py",
   "mimetype": "text/x-python",
   "name": "python",
   "nbconvert_exporter": "python",
   "pygments_lexer": "ipython3",
   "version": "3.10.11"
  },
  "orig_nbformat": 4
 },
 "nbformat": 4,
 "nbformat_minor": 2
}
