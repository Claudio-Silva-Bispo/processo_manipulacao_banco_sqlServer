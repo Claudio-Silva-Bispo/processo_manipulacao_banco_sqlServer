{
 "cells": [
  {
   "cell_type": "code",
   "execution_count": null,
   "metadata": {},
   "outputs": [],
   "source": [
    "#--------------------( Instalar as bibliotecas )--------------------#\n",
    "\n",
    "# !pip install pymssql\n",
    "# !pip install pyodbc\n",
    "\n"
   ]
  },
  {
   "cell_type": "code",
   "execution_count": null,
   "metadata": {},
   "outputs": [],
   "source": [
    "#--------------------( Importar as bibliotecas )--------------------#\n",
    "\n",
    "from datetime import date\n",
    "import time\n",
    "import socket\n",
    "import pandas as pd\n",
    "import pyodbc\n",
    "import pymssql\n",
    "\n"
   ]
  },
  {
   "cell_type": "code",
   "execution_count": null,
   "metadata": {},
   "outputs": [],
   "source": [
    "#--------------------( Fazer o acesso no SQL )--------------------#\n",
    "\n",
    "conn = pymssql.connect(server='tms-drp-oficial.database.windows.net', \n",
    "                       database='tms', \n",
    "                       user='appTableau', \n",
    "                       password='Tjd82#jks2')\n",
    "\n",
    "sql_query = \"\"\"SELECT * FROM ACAO\"\"\"\n",
    "\n"
   ]
  },
  {
   "cell_type": "code",
   "execution_count": null,
   "metadata": {},
   "outputs": [],
   "source": [
    "#--------------------( Colocar os dados em uma variavel e tratar )--------------------#\n",
    "\n",
    "df = pd.read_sql(sql_query, conn)"
   ]
  }
 ],
 "metadata": {
  "language_info": {
   "name": "python"
  },
  "orig_nbformat": 4
 },
 "nbformat": 4,
 "nbformat_minor": 2
}
